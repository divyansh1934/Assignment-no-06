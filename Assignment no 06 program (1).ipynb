{
 "cells": [
  {
   "cell_type": "code",
   "execution_count": 24,
   "id": "c9e69554",
   "metadata": {},
   "outputs": [
    {
     "name": "stdout",
     "output_type": "stream",
     "text": [
      "     * \n",
      "    * * * \n",
      "   * * * * * \n",
      "  * * * * * * * \n",
      " * * * * * * * * * \n"
     ]
    }
   ],
   "source": [
    "rows=5\n",
    "for i in range(0, rows):\n",
    "    for k in range(0,rows):\n",
    "        print(end=\" \")\n",
    "    rows=rows-1\n",
    "    for j in range(0,(2*i)+1):\n",
    "        print(\"*\", end=\" \")\n",
    "    print()"
   ]
  },
  {
   "cell_type": "code",
   "execution_count": 9,
   "id": "53b02b06",
   "metadata": {},
   "outputs": [
    {
     "name": "stdout",
     "output_type": "stream",
     "text": [
      "| | | | | | | | | \n",
      " | | | | | | | \n",
      "  | | | | | \n",
      "   | | | \n",
      "    | \n"
     ]
    }
   ],
   "source": [
    "# using for loop\n",
    "\n",
    "rows=5\n",
    "for i in range(0, rows):\n",
    "    for k in range(0,i):\n",
    "        print(end=\" \")\n",
    "    for j in range(0,(2*rows-1)-2*i):\n",
    "        print(\"|\", end=\" \")\n",
    "    print()\n"
   ]
  },
  {
   "cell_type": "code",
   "execution_count": 8,
   "id": "846a96e0",
   "metadata": {},
   "outputs": [
    {
     "name": "stdout",
     "output_type": "stream",
     "text": [
      "| | | | | | | | | \n",
      " | | | | | | | \n",
      "  | | | | | \n",
      "   | | | \n",
      "    | \n"
     ]
    }
   ],
   "source": [
    "#using while loop\n",
    "\n",
    "rows=5\n",
    "i=0\n",
    "while i < rows:\n",
    "    k=1\n",
    "    while (k<=i):\n",
    "        print(end=\" \")\n",
    "        k+=1\n",
    "    j=2*rows-1-2*i\n",
    "    while j>=1:\n",
    "        print(\"|\", end=\" \")\n",
    "        j-=1\n",
    "    print()\n",
    "    i=i+1"
   ]
  },
  {
   "cell_type": "code",
   "execution_count": null,
   "id": "780d68b4",
   "metadata": {},
   "outputs": [],
   "source": []
  }
 ],
 "metadata": {
  "kernelspec": {
   "display_name": "Python 3 (ipykernel)",
   "language": "python",
   "name": "python3"
  },
  "language_info": {
   "codemirror_mode": {
    "name": "ipython",
    "version": 3
   },
   "file_extension": ".py",
   "mimetype": "text/x-python",
   "name": "python",
   "nbconvert_exporter": "python",
   "pygments_lexer": "ipython3",
   "version": "3.10.9"
  }
 },
 "nbformat": 4,
 "nbformat_minor": 5
}
